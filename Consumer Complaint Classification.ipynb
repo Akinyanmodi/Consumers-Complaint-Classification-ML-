{
 "cells": [
  {
   "cell_type": "code",
   "execution_count": null,
   "id": "9fcd2ad4",
   "metadata": {},
   "outputs": [],
   "source": [
    "# Importing libraries\n",
    "import pandas as pd\n",
    "import numpy as np\n",
    "from sklearn.feature_extraction.text import CountVectorizer\n",
    "from sklearn.model_selection import train_test_split\n",
    "from sklearn.naive_bayes import MultinomialNB\n",
    "from sklearn.linear_model import SGDClassifier\n",
    "import nltk\n",
    "import re\n",
    "from nltk.corpus import stopwords\n",
    "import string"
   ]
  },
  {
   "cell_type": "code",
   "execution_count": null,
   "id": "956d35e0",
   "metadata": {},
   "outputs": [],
   "source": [
    "# Importing dataset\n",
    "data = pd.read_csv(\"consumercomplaints.csv\")\n",
    "data.head()"
   ]
  },
  {
   "cell_type": "code",
   "execution_count": null,
   "id": "75ba4c21",
   "metadata": {},
   "outputs": [],
   "source": [
    "# The dataset contains an Unnamed column. I’ll remove the column and move further:\n",
    "data = data.drop(\"Unnamed: 0\",axis=1)"
   ]
  },
  {
   "cell_type": "code",
   "execution_count": null,
   "id": "1a3da1c6",
   "metadata": {},
   "outputs": [],
   "source": [
    "#  Having a look if the dataset contains null values or not:\n",
    "print(data.isnull().sum())"
   ]
  },
  {
   "cell_type": "code",
   "execution_count": null,
   "id": "48f1efc6",
   "metadata": {},
   "outputs": [],
   "source": [
    "# The dataset contains so many null values. I’ll drop all the rows containing null values and move further:\n",
    "data = data.dropna()"
   ]
  },
  {
   "cell_type": "code",
   "execution_count": null,
   "id": "0c0bdf64",
   "metadata": {},
   "outputs": [],
   "source": [
    "# The product column in the dataset contains the labels. \n",
    "# Here the labels represent the nature of the complaints reported by the consumers. \n",
    "# Let’s have a look at all the labels and their frequency:\n",
    "\n",
    "print(data[\"Product\"].value_counts())"
   ]
  },
  {
   "cell_type": "markdown",
   "id": "722dfb35",
   "metadata": {},
   "source": [
    "The consumer complaint narrative column contains the complete description of the complaints reported by the consumers. I will clean and prepare this column before using it in a Machine Learning model"
   ]
  },
  {
   "cell_type": "code",
   "execution_count": null,
   "id": "1c158554",
   "metadata": {},
   "outputs": [],
   "source": [
    "# Download stopwords\n",
    "nltk.download('stopwords')\n",
    "\n",
    "\n",
    "stemmer = nltk.SnowballStemmer(\"english\")\n",
    "stopword=set(stopwords.words('english'))\n",
    "\n",
    "\n",
    "def clean(text):\n",
    "    text = str(text).lower()\n",
    "    text = re.sub('\\[.*?\\]', '', text)\n",
    "    text = re.sub('https?://\\S+|www\\.\\S+', '', text)\n",
    "    text = re.sub('<.*?>+', '', text)\n",
    "    text = re.sub('[%s]' % re.escape(string.punctuation), '', text)  # Corrected line\n",
    "    text = re.sub('\\n', '', text)\n",
    "    text = re.sub('\\w*\\d\\w*', '', text)\n",
    "    text = [word for word in text.split(' ') if word not in stopword]\n",
    "    text = \" \".join(text)\n",
    "    text = [stemmer.stem(word) for word in text.split(' ')]\n",
    "    text = \" \".join(text)\n",
    "    return text\n",
    "\n",
    "data[\"Consumer complaint narrative\"] = data[\"Consumer complaint narrative\"].apply(clean)\n"
   ]
  },
  {
   "cell_type": "code",
   "execution_count": null,
   "id": "9cc7cf3e",
   "metadata": {},
   "outputs": [],
   "source": [
    "# Setting the dependent and independent\n",
    "\n",
    "data = data[[\"Consumer complaint narrative\", \"Product\"]]\n",
    "\n",
    "\n",
    "x = np.array(data[\"Consumer complaint narrative\"])\n",
    "y = np.array(data[\"Product\"])"
   ]
  },
  {
   "cell_type": "code",
   "execution_count": null,
   "id": "40c13200",
   "metadata": {},
   "outputs": [],
   "source": [
    "# Creating the model\n",
    "cv = CountVectorizer()\n",
    "x = cv.fit_transform(x)\n",
    "x_train, x_test, y_train, y_test = train_test_split(X, y, test_size=0.33, random_state=0)"
   ]
  },
  {
   "cell_type": "code",
   "execution_count": null,
   "id": "c49467f5",
   "metadata": {},
   "outputs": [],
   "source": [
    "# Training the Machine Learning model using the Stochastic Gradient Descent classification algorithm\n",
    "sgdmodel = SGDClassifier()\n",
    "sgdmodel.fit(X_train,y_train)"
   ]
  },
  {
   "cell_type": "code",
   "execution_count": null,
   "id": "b2fbba80",
   "metadata": {},
   "outputs": [],
   "source": [
    "# Use the trained model to make predictions\n",
    "user = input(\"Enter a Text: \")\n",
    "data = cv.transform([user]).toarray()\n",
    "output = sgdmodel.predict(data)\n",
    "print(output)"
   ]
  },
  {
   "cell_type": "code",
   "execution_count": null,
   "id": "95324400",
   "metadata": {},
   "outputs": [],
   "source": []
  }
 ],
 "metadata": {
  "kernelspec": {
   "display_name": "Python 3 (ipykernel)",
   "language": "python",
   "name": "python3"
  },
  "language_info": {
   "codemirror_mode": {
    "name": "ipython",
    "version": 3
   },
   "file_extension": ".py",
   "mimetype": "text/x-python",
   "name": "python",
   "nbconvert_exporter": "python",
   "pygments_lexer": "ipython3",
   "version": "3.11.5"
  }
 },
 "nbformat": 4,
 "nbformat_minor": 5
}
